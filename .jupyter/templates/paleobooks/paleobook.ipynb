{
 "cells": [
  {
   "cell_type": "markdown",
   "id": "367aad8e-a385-4957-8084-0dc1b9a40e5d",
   "metadata": {
    "tags": []
   },
   "source": [
    "# Notebook title"
   ]
  },
  {
   "cell_type": "markdown",
   "id": "a430d0ff-03fc-47ff-be70-95c59dde99ab",
   "metadata": {},
   "source": [
    "_Tech Objective:_ Teach tech. \n",
    "\n",
    "Tech skills:\n",
    "- lists are informative"
   ]
  },
  {
   "cell_type": "markdown",
   "id": "ada80d10-9881-495f-a365-9c2d54101c33",
   "metadata": {},
   "source": [
    "_Scientific Context:_ A common need of climate scientists is to diagnose the response of the climate system to external influences. For example, an instance of explosive volcanism introduces sunlight-reflecting particles in the stratosphere, thereby cooling climate in the years that follow a large eruption. In this notebook, we use the Last Millennium Reanalysis and the evolv2k dataset to probe the this relationship over the Common Era.  "
   ]
  },
  {
   "cell_type": "markdown",
   "id": "f613e617-6dec-4669-8280-fc55f3e1a06d",
   "metadata": {},
   "source": [
    "Per usual, first we'll load packages we will need."
   ]
  },
  {
   "cell_type": "code",
   "execution_count": 22,
   "id": "dc2306d0-8ff0-4ad8-bc33-fb60ef9afeb6",
   "metadata": {
    "ExecuteTime": {
     "end_time": "2022-12-12T23:18:20.294097Z",
     "start_time": "2022-12-12T23:18:17.733045Z"
    }
   },
   "outputs": [
    {
     "name": "stdout",
     "output_type": "stream",
     "text": [
      "The autoreload extension is already loaded. To reload it, use:\n",
      "  %reload_ext autoreload\n"
     ]
    }
   ],
   "source": [
    "%load_ext autoreload\n",
    "%autoreload 2\n",
    "\n",
    "import xarray as xr\n",
    "from pathlib import Path\n",
    "import numpy as np\n",
    "import cftime\n",
    "import os\n",
    "\n",
    "import matplotlib.pyplot as plt\n",
    "import matplotlib as mpl\n",
    "from matplotlib import cm\n",
    "import matplotlib.gridspec as gridspec\n",
    "\n",
    "import cartopy.crs as ccrs\n",
    "import cartopy.feature as cfeature\n",
    "import cartopy.util as cutil\n",
    "\n",
    "import pyleoclim as pyleo\n"
   ]
  },
  {
   "cell_type": "markdown",
   "id": "7b469ea5-2f8a-4eb4-a074-6f38ee3ab3df",
   "metadata": {},
   "source": [
    "### Data\n",
    "We'll load two datasets using Xarray.\n",
    "\n",
    "- **Last Millenium Reanalysis Project (LMR)**: The gridded output from the Last Millenium Reanalysis Project is (happily) available via Pangeo-Forge. \n",
    "\n",
    "| _Citations_|\n",
    "|:---------------------------------------------------------------------------------------------------------------------------------------------------------------------------------------------------------------------------------------------------------------------------------------------------------|\n",
    "| Hakim, G. J., Emile-Geay, J., Steig, E. J., Noone, D., Anderson, D. M., Tardif, R., Steiger, N., and Perkins, W. A. (2016), The last millennium climate reanalysis project: Framework and first results, J. Geophys. Res. Atmos., 121, 6745– 6764, doi:10.1002/2016JD024751.|\n",
    "| Tardif, R., Hakim, G. J., Perkins, W. A., Horlick, K. A., Erb, M. P., Emile-Geay, J., Anderson, D. M., Steig, E. J., and Noone, D.: Last Millennium Reanalysis with an expanded proxy database and seasonal proxy modeling, Clim. Past, 15, 1251–1273,  https://doi.org/10.5194/cp-15-1251-2019 , 2019. |\n",
    "\n",
    "##### _[Pangeo-Forge](https://pangeo-forge.org/):_ \n",
    "Briefly, Pangeo-Forge is a project that makes it easy to access large datasets (often stored in many parts) via a url, and work with them without having to maintain local copies of the data--good for the hard drive, good for the RAM!. For more information about Pangeo-Forge, check out [this notebook](), and for the intrepid reader looking for a deeper dive, their much more nuanced tutorials might be just the ticket.\n",
    "\n",
    "##### _[Xarray](https://xarray.dev/):_\n",
    "Xarray is specifically designed to accomodate multidimensional data, like that from a NetCDF file, or in this case a zarr file (another multidimensional data file type that is somewhat slimmer). Here we'll look at a few functionalities of Xarray, but for more information about wrangling seemingly unweildy datasets, check out [this primer on widgets](https://github.com/jordanplanders/PaleoBooks_dev/blob/6fe2427b743f82961076db3ab38951c7fe7b55ea/notebooks/primer_widgets.ipynb). \n"
   ]
  },
  {
   "cell_type": "code",
   "execution_count": null,
   "id": "9f680f33-838e-48df-9754-bab3aa90d8ea",
   "metadata": {},
   "outputs": [],
   "source": []
  },
  {
   "cell_type": "markdown",
   "id": "531336b4-04ee-4906-8916-b7a86ac4b2da",
   "metadata": {},
   "source": [
    "### Learning task 1"
   ]
  },
  {
   "cell_type": "code",
   "execution_count": null,
   "id": "ae0248c6-b055-4738-823b-972a353c9986",
   "metadata": {},
   "outputs": [],
   "source": []
  },
  {
   "cell_type": "markdown",
   "id": "19ea0950-144b-4be4-936f-e6432a614e33",
   "metadata": {},
   "source": [
    "### Learning task 2"
   ]
  },
  {
   "cell_type": "code",
   "execution_count": null,
   "id": "2b219665-db43-4b3d-99c5-15a081b02590",
   "metadata": {},
   "outputs": [],
   "source": []
  },
  {
   "cell_type": "markdown",
   "id": "5e515d7b-40cc-4a33-8c81-3d61dfd8e997",
   "metadata": {},
   "source": [
    "### Summary"
   ]
  },
  {
   "cell_type": "code",
   "execution_count": null,
   "id": "19501e53-54f6-47f6-9f9d-1e8dc6abe3f2",
   "metadata": {},
   "outputs": [],
   "source": []
  }
 ],
 "metadata": {
  "kernelspec": {
   "display_name": "Python [conda env:test310_help] *",
   "language": "python",
   "name": "conda-env-test310_help-py"
  },
  "language_info": {
   "codemirror_mode": {
    "name": "ipython",
    "version": 3
   },
   "file_extension": ".py",
   "mimetype": "text/x-python",
   "name": "python",
   "nbconvert_exporter": "python",
   "pygments_lexer": "ipython3",
   "version": "3.10.9"
  }
 },
 "nbformat": 4,
 "nbformat_minor": 5
}
